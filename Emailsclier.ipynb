{
 "cells": [
  {
   "cell_type": "markdown",
   "metadata": {},
   "source": [
    "Email Slicer with Python, our task is to write a program that can retrieve the username and the domain name of the email. "
   ]
  },
  {
   "cell_type": "code",
   "execution_count": 7,
   "metadata": {},
   "outputs": [
    {
     "name": "stdout",
     "output_type": "stream",
     "text": [
      "Enter the email : Rahulsingh@gmail.com\n",
      "Your user name is 'Rahulsingh' and the Domain is 'gmail.com'\n"
     ]
    }
   ],
   "source": [
    "email = input(\"Enter the email : \").strip()\n",
    "username= email[:email.index('@')]\n",
    "Domain=email[email.index('@')+1:]\n",
    "Format=(f\"Your user name is '{username}' and the Domain is '{Domain}'\")\n",
    "print(Format)    "
   ]
  }
 ],
 "metadata": {
  "kernelspec": {
   "display_name": "Python 3",
   "language": "python",
   "name": "python3"
  },
  "language_info": {
   "codemirror_mode": {
    "name": "ipython",
    "version": 3
   },
   "file_extension": ".py",
   "mimetype": "text/x-python",
   "name": "python",
   "nbconvert_exporter": "python",
   "pygments_lexer": "ipython3",
   "version": "3.7.3"
  }
 },
 "nbformat": 4,
 "nbformat_minor": 2
}
